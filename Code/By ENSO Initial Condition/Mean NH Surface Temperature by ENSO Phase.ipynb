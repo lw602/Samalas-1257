{
 "cells": [
  {
   "cell_type": "code",
   "execution_count": 1,
   "metadata": {},
   "outputs": [],
   "source": [
    "import iris\n",
    "import matplotlib.pyplot as plt\n",
    "import matplotlib as mpl\n",
    "import pandas as pd\n",
    "import datetime\n",
    "import numpy as np\n",
    "import iris.coords as icoords\n",
    "import iris.coord_categorisation\n",
    "import iris.quickplot as qplt \n",
    "import numpy.ma as ma\n",
    "from iris.util import broadcast_to_shape"
   ]
  },
  {
   "cell_type": "code",
   "execution_count": 2,
   "metadata": {},
   "outputs": [],
   "source": [
    "#defining a function to calculate global average T\n",
    "def area_average(cube):\n",
    "    \n",
    "    if cube.coord('latitude').bounds is None:\n",
    "        cube.coord('latitude').guess_bounds()\n",
    "        cube.coord('longitude').guess_bounds()\n",
    "    \n",
    "    grid_areas = iris.analysis.cartography.area_weights(cube)\n",
    "    average = cube.collapsed(['latitude','longitude'],iris.analysis.MEAN, weights=grid_areas)\n",
    "    \n",
    "    return average"
   ]
  },
  {
   "cell_type": "code",
   "execution_count": 3,
   "metadata": {},
   "outputs": [],
   "source": [
    "#defining function to merge cube list into single large cube\n",
    "def time_reset(cubes): \n",
    "    \n",
    "    time_coord = cubes[0].coord('time')\n",
    "    n=1\n",
    "    for cube in cubes:\n",
    "        cube.remove_coord('time')\n",
    "        cube.add_dim_coord(time_coord,0)\n",
    "        cube.remove_coord('forecast_reference_time')\n",
    "        cube.remove_coord('forecast_period')\n",
    "        n+=1\n",
    "    \n",
    "    return "
   ]
  },
  {
   "cell_type": "code",
   "execution_count": 4,
   "metadata": {},
   "outputs": [],
   "source": [
    "#defining function to merge cube list into single large cube\n",
    "def merge_cubes(cubes): \n",
    "    \n",
    "    \"\"\"\n",
    "    Merge all ensemble members into one cube\n",
    "    All cubes given the same time coordinate\n",
    "    \"\"\"\n",
    "\n",
    "    big_cube = iris.cube.CubeList()\n",
    "    n=1\n",
    "    for cube in cubes:\n",
    "        ensemble_coord = icoords.AuxCoord(n, standard_name='realization')\n",
    "        new_cube = cube.copy()\n",
    "        new_cube.add_aux_coord(ensemble_coord)\n",
    "        big_cube.append(new_cube)\n",
    "        n+=1\n",
    "    \n",
    "    return big_cube.merge_cube()"
   ]
  },
  {
   "cell_type": "code",
   "execution_count": 5,
   "metadata": {},
   "outputs": [],
   "source": [
    "#defining function to merge cube list into single large cube\n",
    "def merge_cubes_again(cubes): \n",
    "    \n",
    "    \"\"\"\n",
    "    Merge all ensemble members into one cube\n",
    "    All cubes given the same time coordinate\n",
    "    \"\"\"\n",
    "\n",
    "    big_cube = iris.cube.CubeList()\n",
    "    for cube in cubes:\n",
    "        new_cube = cube.copy()\n",
    "        big_cube.append(new_cube)\n",
    "    \n",
    "    return big_cube.merge_cube()"
   ]
  },
  {
   "cell_type": "code",
   "execution_count": 6,
   "metadata": {},
   "outputs": [],
   "source": [
    "dir_in_coupled = '/shared/netscratch/lrm49/Laura/'\n",
    "coupled_cntl = ['u-bu651','u-bv666','u-bv668','u-bv669','u-bv670','u-bv674','u-bv676','u-bv677','u-bv678']\n",
    "july_el = ['u-bw764'] \n",
    "july_la = ['u-bw758', 'u-bw761', 'u-bw762', 'u-bw766'] \n",
    "july_ne = ['u-bv020', 'u-bw763', 'u-bw765', 'u-bw767']\n",
    "jan_el = ['u-ca322', 'u-ca325', 'u-ca331'] \n",
    "jan_la = ['u-ca323', 'u-ca324', 'u-ca326', 'u-ca328'] \n",
    "jan_ne = ['u-ca327', 'u-ca330' ]"
   ]
  },
  {
   "cell_type": "code",
   "execution_count": 7,
   "metadata": {},
   "outputs": [
    {
     "name": "stderr",
     "output_type": "stream",
     "text": [
      "/home/lw602/.conda/envs/py27iris/lib/python2.7/site-packages/iris/fileformats/_pyke_rules/compiled_krb/fc_rules_cf_fc.py:1935: UserWarning: Ignoring netCDF variable u'surface' invalid units u'level'\n",
      "  warnings.warn(msg.encode('ascii', errors='backslashreplace'))\n"
     ]
    }
   ],
   "source": [
    "#loading in ocean-land mask\n",
    "my_mask = iris.load_cube('/shared/netscratch/lrm49/UKCA_VN112_TEST_SIMS/land_mask_bm249_da19910701_00.nc')[0,0]\n",
    "\n",
    "#Setting zero values to true to mask ocean points\n",
    "no_ocean = np.logical_not(my_mask.data)\n"
   ]
  },
  {
   "cell_type": "code",
   "execution_count": 8,
   "metadata": {},
   "outputs": [],
   "source": [
    "#setting NH constraint\n",
    "NH_constraint = iris.Constraint(latitude=lambda v: 40 <= v <= 75)"
   ]
  },
  {
   "cell_type": "code",
   "execution_count": 9,
   "metadata": {},
   "outputs": [],
   "source": [
    "## El Nino ##\n",
    "sat_elnino = iris.cube.CubeList()\n",
    "for job_id in july_el:\n",
    "\n",
    "    dynamic_cube = iris.load(dir_in_coupled+'Samalas_July/'+job_id+'_dynamics_vars.nc')\n",
    "    sst_cube = dynamic_cube.extract('surface_temperature')[0]\n",
    "    sst_cube.data = ma.array(sst_cube.data, mask=broadcast_to_shape(no_ocean,sst_cube.shape,[1,2]))\n",
    "    sst_nh = sst_cube.extract(NH_constraint)\n",
    "    sst_cube_gm = area_average(sst_nh)\n",
    "    time_limit = sst_cube_gm[6:120]\n",
    "\n",
    "    sat_elnino.append(time_limit)\n",
    "    \n",
    "for job_id in jan_el:\n",
    "    \n",
    "    dynamic_cube = iris.load(dir_in_coupled+'Samalas_Jan/'+job_id+'_dynamics_vars.nc')\n",
    "    sst_cube = dynamic_cube.extract('surface_temperature')[0]\n",
    "    sst_cube.data = ma.array(sst_cube.data, mask=broadcast_to_shape(no_ocean,sst_cube.shape,[1,2]))\n",
    "    sst_nh = sst_cube.extract(NH_constraint)\n",
    "    sst_cube_gm = area_average(sst_nh)\n",
    "    time_limit = sst_cube_gm[0:114]\n",
    "\n",
    "    sat_elnino.append(time_limit)"
   ]
  },
  {
   "cell_type": "code",
   "execution_count": 10,
   "metadata": {},
   "outputs": [],
   "source": [
    "## La Nina ##\n",
    "sat_lanina = iris.cube.CubeList()\n",
    "for job_id in july_la:\n",
    "\n",
    "    dynamic_cube = iris.load(dir_in_coupled+'Samalas_July/'+job_id+'_dynamics_vars.nc')\n",
    "    sst_cube = dynamic_cube.extract('surface_temperature')[0]\n",
    "    sst_cube.data = ma.array(sst_cube.data, mask=broadcast_to_shape(no_ocean,sst_cube.shape,[1,2]))\n",
    "    sst_nh = sst_cube.extract(NH_constraint)\n",
    "    sst_cube_gm = area_average(sst_nh)\n",
    "    time_limit = sst_cube_gm[6:120]\n",
    "\n",
    "    sat_lanina.append(time_limit)\n",
    "    \n",
    "for job_id in jan_la:\n",
    "    \n",
    "    dynamic_cube = iris.load(dir_in_coupled+'Samalas_Jan/'+job_id+'_dynamics_vars.nc')\n",
    "    sst_cube = dynamic_cube.extract('surface_temperature')[0]\n",
    "    sst_cube.data = ma.array(sst_cube.data, mask=broadcast_to_shape(no_ocean,sst_cube.shape,[1,2]))\n",
    "    sst_nh = sst_cube.extract(NH_constraint)\n",
    "    sst_cube_gm = area_average(sst_nh)\n",
    "    time_limit = sst_cube_gm[0:114]\n",
    "\n",
    "    sat_lanina.append(time_limit)"
   ]
  },
  {
   "cell_type": "code",
   "execution_count": 11,
   "metadata": {},
   "outputs": [],
   "source": [
    "## Neutral ##\n",
    "sat_neutral = iris.cube.CubeList()\n",
    "for job_id in july_ne:\n",
    "\n",
    "    dynamic_cube = iris.load(dir_in_coupled+'Samalas_July/'+job_id+'_dynamics_vars.nc')\n",
    "    sst_cube = dynamic_cube.extract('surface_temperature')[0]\n",
    "    sst_cube.data = ma.array(sst_cube.data, mask=broadcast_to_shape(no_ocean,sst_cube.shape,[1,2]))\n",
    "    sst_nh = sst_cube.extract(NH_constraint)\n",
    "    sst_cube_gm = area_average(sst_nh)\n",
    "    time_limit = sst_cube_gm[6:120]\n",
    "\n",
    "    sat_neutral.append(time_limit)\n",
    "    \n",
    "for job_id in jan_ne:\n",
    "    \n",
    "    dynamic_cube = iris.load(dir_in_coupled+'Samalas_Jan/'+job_id+'_dynamics_vars.nc')\n",
    "    sst_cube = dynamic_cube.extract('surface_temperature')[0]\n",
    "    sst_cube.data = ma.array(sst_cube.data, mask=broadcast_to_shape(no_ocean,sst_cube.shape,[1,2]))\n",
    "    sst_nh = sst_cube.extract(NH_constraint)\n",
    "    sst_cube_gm = area_average(sst_nh)\n",
    "    time_limit = sst_cube_gm[0:114]\n",
    "\n",
    "    sat_neutral.append(time_limit)"
   ]
  },
  {
   "cell_type": "code",
   "execution_count": 12,
   "metadata": {},
   "outputs": [],
   "source": [
    "## CONTROL ##\n",
    "control = iris.cube.CubeList()\n",
    "for job_id_2 in coupled_cntl:\n",
    "\n",
    "    control_cube = iris.load(dir_in_coupled+'Control/'+job_id_2+'_dynamics_vars.nc')\n",
    "    sst_control = control_cube.extract('surface_temperature')[0]\n",
    "    sst_control.data = ma.array(sst_control.data, mask=broadcast_to_shape(no_ocean,sst_control.shape,[1,2]))\n",
    "    sst_nh = sst_control.extract(NH_constraint)\n",
    "    sst_control_gm = area_average(sst_nh)[0:114]\n",
    "\n",
    "    control.append(sst_control_gm)"
   ]
  },
  {
   "cell_type": "code",
   "execution_count": 13,
   "metadata": {},
   "outputs": [],
   "source": [
    "# resetting time\n",
    "time_reset(sat_elnino)\n",
    "time_reset(sat_lanina)\n",
    "time_reset(sat_neutral)\n",
    "time_reset(control)"
   ]
  },
  {
   "cell_type": "code",
   "execution_count": 14,
   "metadata": {},
   "outputs": [],
   "source": [
    "#merging cubes\n",
    "sat_merged_elnino = merge_cubes(sat_elnino)\n",
    "sat_merged_lanina = merge_cubes(sat_lanina)\n",
    "sat_merged_neutral = merge_cubes(sat_neutral)\n",
    "one_big_control = merge_cubes(control)"
   ]
  },
  {
   "cell_type": "code",
   "execution_count": 15,
   "metadata": {},
   "outputs": [
    {
     "name": "stderr",
     "output_type": "stream",
     "text": [
      "/home/lw602/.conda/envs/py27iris/lib/python2.7/site-packages/iris/coords.py:1355: UserWarning: Collapsing a non-contiguous coordinate. Metadata may not be fully descriptive for 'realization'.\n",
      "  warnings.warn(msg.format(self.name()))\n"
     ]
    }
   ],
   "source": [
    "#Creating control ensemble average\n",
    "mean_control = one_big_control.collapsed('realization',iris.analysis.MEAN)"
   ]
  },
  {
   "cell_type": "code",
   "execution_count": 16,
   "metadata": {},
   "outputs": [],
   "source": [
    "#Creating 10 year climatology\n",
    "import iris.coord_categorisation\n",
    "iris.coord_categorisation.add_month(mean_control,'time',name='month')\n",
    "climatology_all_controls = mean_control.aggregated_by('month',iris.analysis.MEAN) \n",
    "climatology_long = np.tile(climatology_all_controls.data, 10)\n",
    "climatology_short_1 = climatology_long[6:120]#compatible with july ensembles\n",
    "climatology_short_2 = climatology_long[0:114]#compatible with jan ensembles\n"
   ]
  },
  {
   "cell_type": "code",
   "execution_count": 17,
   "metadata": {},
   "outputs": [],
   "source": [
    "anom_elnino = iris.cube.CubeList()\n",
    "\n",
    "for i in range(0,1):\n",
    "    anomally_elnino = sat_merged_elnino[i] - climatology_short_1\n",
    "    anom_elnino.append(anomally_elnino)\n",
    "\n",
    "for i in range(1,4):\n",
    "    anomally_elnino = sat_merged_elnino[i] - climatology_short_2\n",
    "    anom_elnino.append(anomally_elnino)"
   ]
  },
  {
   "cell_type": "code",
   "execution_count": 18,
   "metadata": {},
   "outputs": [],
   "source": [
    "anom_lanina = iris.cube.CubeList()\n",
    "\n",
    "for i in range(0,4):\n",
    "    anomally_lanina = sat_merged_lanina[i] - climatology_short_1\n",
    "    anom_lanina.append(anomally_lanina)\n",
    "\n",
    "for i in range(4,8):\n",
    "    anomally_lanina = sat_merged_lanina[i] - climatology_short_2\n",
    "    anom_lanina.append(anomally_lanina)"
   ]
  },
  {
   "cell_type": "code",
   "execution_count": 19,
   "metadata": {},
   "outputs": [],
   "source": [
    "anom_neutral = iris.cube.CubeList()\n",
    "\n",
    "for i in range(0,4):\n",
    "    anomally_neutral = sat_merged_neutral[i] - climatology_short_1\n",
    "    anom_neutral.append(anomally_neutral)\n",
    "\n",
    "for i in range(4,6):\n",
    "    anomally_neutral = sat_merged_neutral[i] - climatology_short_2\n",
    "    anom_neutral.append(anomally_neutral)"
   ]
  },
  {
   "cell_type": "code",
   "execution_count": 20,
   "metadata": {},
   "outputs": [],
   "source": [
    "anom_elnino_full = merge_cubes_again(anom_elnino)\n",
    "anom_lanina_full = merge_cubes_again(anom_lanina)\n",
    "anom_neutral_full = merge_cubes_again(anom_neutral)"
   ]
  },
  {
   "cell_type": "code",
   "execution_count": 21,
   "metadata": {},
   "outputs": [],
   "source": [
    "#Taking ensemble mean anomalies by grouping\n",
    "mean_anomally_elnino = anom_elnino_full.collapsed('realization',iris.analysis.MEAN)\n",
    "mean_anomally_lanina = anom_lanina_full.collapsed('realization',iris.analysis.MEAN)\n",
    "mean_anomally_neutral = anom_neutral_full.collapsed('realization',iris.analysis.MEAN)"
   ]
  },
  {
   "cell_type": "code",
   "execution_count": 22,
   "metadata": {},
   "outputs": [],
   "source": [
    "#Taking anomalies at 6 month intervals \n",
    "summer_elnino_anomalies = []\n",
    "\n",
    "start = mean_anomally_elnino[0]\n",
    "summer_6_elnino = mean_anomally_elnino[6]\n",
    "summer_12_elnino = mean_anomally_elnino[12]\n",
    "summer_18_elnino = mean_anomally_elnino[18]\n",
    "summer_24_elnino = mean_anomally_elnino[24]\n",
    "summer_30_elnino = mean_anomally_elnino[30]\n",
    "\n",
    "summer_elnino_anomalies.append(start.data) \n",
    "summer_elnino_anomalies.append(summer_6_elnino.data) \n",
    "summer_elnino_anomalies.append(summer_12_elnino.data)\n",
    "summer_elnino_anomalies.append(summer_18_elnino.data)\n",
    "summer_elnino_anomalies.append(summer_24_elnino.data)\n",
    "summer_elnino_anomalies.append(summer_30_elnino.data)"
   ]
  },
  {
   "cell_type": "code",
   "execution_count": 23,
   "metadata": {},
   "outputs": [],
   "source": [
    "#Taking anomalies at 6 month intervals \n",
    "summer_lanina_anomalies = []\n",
    "\n",
    "start = mean_anomally_lanina[0]\n",
    "summer_6_lanina = mean_anomally_lanina[6]\n",
    "summer_12_lanina = mean_anomally_lanina[12]\n",
    "summer_18_lanina = mean_anomally_lanina[18]\n",
    "summer_24_lanina = mean_anomally_lanina[24]\n",
    "summer_30_lanina = mean_anomally_lanina[30]\n",
    "\n",
    "summer_lanina_anomalies.append(start.data) \n",
    "summer_lanina_anomalies.append(summer_6_lanina.data) \n",
    "summer_lanina_anomalies.append(summer_12_lanina.data)\n",
    "summer_lanina_anomalies.append(summer_18_lanina.data)\n",
    "summer_lanina_anomalies.append(summer_24_lanina.data)\n",
    "summer_lanina_anomalies.append(summer_30_lanina.data)"
   ]
  },
  {
   "cell_type": "code",
   "execution_count": 25,
   "metadata": {},
   "outputs": [],
   "source": [
    "#Taking anomalies at 6 month intervals \n",
    "summer_neutral_anomalies = []\n",
    "\n",
    "start = mean_anomally_neutral[0]\n",
    "summer_6_neutral = mean_anomally_neutral[6]\n",
    "summer_12_neutral = mean_anomally_neutral[12]\n",
    "summer_18_neutral = mean_anomally_neutral[18]\n",
    "summer_24_neutral = mean_anomally_neutral[24]\n",
    "summer_30_neutral = mean_anomally_neutral[30]\n",
    "\n",
    "summer_neutral_anomalies.append(start.data) \n",
    "summer_neutral_anomalies.append(summer_6_neutral.data) \n",
    "summer_neutral_anomalies.append(summer_12_neutral.data)\n",
    "summer_neutral_anomalies.append(summer_18_neutral.data)\n",
    "summer_neutral_anomalies.append(summer_24_neutral.data)\n",
    "summer_neutral_anomalies.append(summer_30_neutral.data)"
   ]
  },
  {
   "cell_type": "code",
   "execution_count": 26,
   "metadata": {},
   "outputs": [],
   "source": [
    "time = range(0,120)"
   ]
  },
  {
   "cell_type": "code",
   "execution_count": 27,
   "metadata": {},
   "outputs": [
    {
     "data": {
      "image/png": "[encoded data removed]",
      "text/plain": [
       "<Figure size 432x288 with 1 Axes>"
      ]
     },
     "metadata": {
      "needs_background": "light"
     },
     "output_type": "display_data"
    }
   ],
   "source": [
    "plt.figure(figsize=(6,4))\n",
    "\n",
    "### PLOTTING EL NINO ENSEMBLES ###\n",
    "\n",
    "for cube in anom_elnino_full.slices_over('realization'): # loop through ensemble members\n",
    "    summer_elnino_anomalies_2 = []\n",
    "\n",
    "    time_0 = cube[0]\n",
    "    time_6 = cube[6]\n",
    "    time_18 = cube[18]\n",
    "    time_30 = cube[30]\n",
    "    time_36 = cube[36]\n",
    "    time_48 = cube[48]\n",
    "    time_60 = cube[60]\n",
    "    time_72 = cube[72]\n",
    "    \n",
    "\n",
    "    summer_elnino_anomalies_2.append(time_0.data) \n",
    "    summer_elnino_anomalies_2.append(time_6.data) \n",
    "    summer_elnino_anomalies_2.append(time_18.data) \n",
    "    summer_elnino_anomalies_2.append(time_30.data)\n",
    "    summer_elnino_anomalies_2.append(time_36.data)\n",
    "    summer_elnino_anomalies_2.append(time_48.data)\n",
    "    summer_elnino_anomalies_2.append(time_60.data)\n",
    "\n",
    "\n",
    "\n",
    "    plt.plot([time[0],time[6], time[18], time[30], time[36], time[48], time[60]], \n",
    "         summer_elnino_anomalies_2, \n",
    "         color='lightcoral', alpha = 0.4, lw=2)#plotting mean\n",
    "    \n",
    "### PLOTTING LA NINA ENSEMBLES ###\n",
    "    \n",
    "for cube in anom_lanina_full.slices_over('realization'): # loop through ensemble members\n",
    "    summer_lanina_anomalies_2 = []\n",
    "\n",
    "    time_0 = cube[0]\n",
    "    time_6 = cube[6]\n",
    "    time_18 = cube[18]\n",
    "    time_12 = cube[30]\n",
    "    time_36 = cube[36]\n",
    "    time_48 = cube[48]\n",
    "    time_60 = cube[60]\n",
    "    time_72 = cube[72]\n",
    "    \n",
    "\n",
    "    summer_lanina_anomalies_2.append(time_0.data) \n",
    "    summer_lanina_anomalies_2.append(time_6.data)  \n",
    "    summer_lanina_anomalies_2.append(time_18.data) \n",
    "    summer_lanina_anomalies_2.append(time_30.data) \n",
    "    summer_lanina_anomalies_2.append(time_36.data)\n",
    "    summer_lanina_anomalies_2.append(time_48.data)\n",
    "    summer_lanina_anomalies_2.append(time_60.data)\n",
    " \n",
    "\n",
    "    plt.plot([time[0],time[6], time[18], time[30], time[36], time[48], time[60]], \n",
    "         summer_lanina_anomalies_2, \n",
    "         color='paleturquoise', alpha = 0.4, lw=2)#plotting mean\n",
    "    \n",
    "### PLOTTING NEUTRAL ENSEMBLES ###\n",
    "\n",
    "for cube in anom_neutral_full.slices_over('realization'): # loop through ensemble members\n",
    "    summer_neutral_anomalies_2 = []\n",
    "\n",
    "    time_0 = cube[0]\n",
    "    time_12 = cube[6]\n",
    "    time_12 = cube[18]\n",
    "    time_12 = cube[30]\n",
    "    time_36 = cube[36]\n",
    "    time_48 = cube[48]\n",
    "    time_60 = cube[60]\n",
    "    time_72 = cube[72]\n",
    "    \n",
    "\n",
    "    summer_neutral_anomalies_2.append(time_0.data) \n",
    "    summer_neutral_anomalies_2.append(time_6.data)\n",
    "    summer_neutral_anomalies_2.append(time_18.data)\n",
    "    summer_neutral_anomalies_2.append(time_30.data)\n",
    "    summer_neutral_anomalies_2.append(time_36.data)\n",
    "    summer_neutral_anomalies_2.append(time_48.data)\n",
    "    summer_neutral_anomalies_2.append(time_60.data)\n",
    " \n",
    "\n",
    "    plt.plot([time[0], time[6], time[18], time[30], time[36], time[48], time[60]], \n",
    "         summer_neutral_anomalies_2, \n",
    "         color='palegoldenrod', alpha = 0.4, lw=2)#plotting mean \n",
    "\n",
    "\n",
    "### PLOTTING ENSEMBLE MEANS ####\n",
    "from matplotlib.lines import Line2D\n",
    "\n",
    "plt.plot([time[0], time[6], time[12], time[18], time[24], time[30]], \n",
    "         summer_elnino_anomalies, color='red',lw=2.5)#plotting mean\n",
    "\n",
    "plt.plot([time[0], time[6], time[12], time[18], time[24], time[30]], \n",
    "         summer_lanina_anomalies, color='darkturquoise',lw=2.5)#plotting mean\n",
    "\n",
    "plt.plot([time[0], time[6], time[12], time[18], time[24], time[30]], \n",
    "         summer_neutral_anomalies, color='gold',lw=2.5)#plotting mean\n",
    "\n",
    "plt.xlim(time[0],time[30]) # plot only 5 years\n",
    "\n",
    "\n",
    "plt.title('NH Summer Land SAT Anomaly (ENSO Phase)')\n",
    "plt.xlabel('Months Since Eruption')\n",
    "plt.ylabel('NH Surface Temperature Anomally/K')\n",
    "elnino_line = Line2D([0], [0], label='El Nino', color='red')\n",
    "lanina_line = Line2D([0], [0], label='La Nina', color='darkturquoise')\n",
    "neutral_line = Line2D([0], [0], label='Neutral', color='gold')\n",
    "plt.legend(handles=[elnino_line, lanina_line, neutral_line])\n",
    "\n",
    "plt.savefig('SAT_by_ENSO.pdf')\n"
   ]
  },
  {
   "cell_type": "code",
   "execution_count": null,
   "metadata": {},
   "outputs": [],
   "source": []
  },
  {
   "cell_type": "code",
   "execution_count": null,
   "metadata": {},
   "outputs": [],
   "source": []
  }
 ],
 "metadata": {
  "kernelspec": {
   "display_name": "Python 2",
   "language": "python",
   "name": "python2"
  },
  "language_info": {
   "codemirror_mode": {
    "name": "ipython",
    "version": 2
   },
   "file_extension": ".py",
   "mimetype": "text/x-python",
   "name": "python",
   "nbconvert_exporter": "python",
   "pygments_lexer": "ipython2",
   "version": "2.7.18"
  }
 },
 "nbformat": 4,
 "nbformat_minor": 2
}
