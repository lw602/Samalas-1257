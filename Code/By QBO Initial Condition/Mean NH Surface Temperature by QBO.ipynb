{
 "cells": [
  {
   "cell_type": "code",
   "execution_count": 1,
   "metadata": {},
   "outputs": [],
   "source": [
    "import iris\n",
    "import matplotlib.pyplot as plt\n",
    "import matplotlib as mpl\n",
    "import pandas as pd\n",
    "import datetime\n",
    "import numpy as np\n",
    "import iris.coords as icoords\n",
    "import iris.coord_categorisation\n",
    "import iris.quickplot as qplt \n",
    "import numpy.ma as ma\n",
    "from iris.util import broadcast_to_shape\n",
    "from matplotlib.lines import Line2D"
   ]
  },
  {
   "cell_type": "code",
   "execution_count": 2,
   "metadata": {},
   "outputs": [],
   "source": [
    "#defining a function to calculate global average T\n",
    "def area_average(cube):\n",
    "    \n",
    "    if cube.coord('latitude').bounds is None:\n",
    "        cube.coord('latitude').guess_bounds()\n",
    "        cube.coord('longitude').guess_bounds()\n",
    "    \n",
    "    grid_areas = iris.analysis.cartography.area_weights(cube)\n",
    "    average = cube.collapsed(['latitude','longitude'],iris.analysis.MEAN, weights=grid_areas)\n",
    "    \n",
    "    return average"
   ]
  },
  {
   "cell_type": "code",
   "execution_count": 3,
   "metadata": {},
   "outputs": [],
   "source": [
    "#defining function to merge cube list into single large cube + add relaisation coord\n",
    "def merge_cubes(cubes): \n",
    "    \n",
    "    \"\"\"\n",
    "    Merge all ensemble members into one cube\n",
    "    All cubes given the same time coordinate\n",
    "    \"\"\"\n",
    "\n",
    "    big_cube = iris.cube.CubeList()\n",
    "    n=1\n",
    "    for cube in cubes:\n",
    "        ensemble_coord = icoords.AuxCoord(n, standard_name='realization')\n",
    "        new_cube = cube.copy()\n",
    "        new_cube.add_aux_coord(ensemble_coord)\n",
    "        big_cube.append(new_cube)\n",
    "        n+=1\n",
    "    \n",
    "    return big_cube.merge_cube()"
   ]
  },
  {
   "cell_type": "code",
   "execution_count": 4,
   "metadata": {},
   "outputs": [],
   "source": [
    "#defining function to merge cube list into single large cube without adding realisation coord\n",
    "def merge_cubes_again(cubes): \n",
    "    \n",
    "    \"\"\"\n",
    "    Merge all ensemble members into one cube\n",
    "    All cubes given the same time coordinate\n",
    "    \"\"\"\n",
    "\n",
    "    big_cube = iris.cube.CubeList()\n",
    "    for cube in cubes:\n",
    "        new_cube = cube.copy()\n",
    "        big_cube.append(new_cube)\n",
    "    \n",
    "    return big_cube.merge_cube()"
   ]
  },
  {
   "cell_type": "code",
   "execution_count": 5,
   "metadata": {},
   "outputs": [],
   "source": [
    "#defining function to reset forecast reference time of cubes\n",
    "def time_reset(cubes): \n",
    "    \n",
    "    time_coord = cubes[0].coord('time')\n",
    "    n=1\n",
    "    for cube in cubes:\n",
    "        cube.remove_coord('time')\n",
    "        cube.add_dim_coord(time_coord,0)\n",
    "        cube.remove_coord('forecast_reference_time')\n",
    "        cube.remove_coord('forecast_period')\n",
    "        n+=1\n",
    "    \n",
    "    return "
   ]
  },
  {
   "cell_type": "code",
   "execution_count": 6,
   "metadata": {},
   "outputs": [],
   "source": [
    "#setting file path and ensemble codes\n",
    "#ensembles grouped by season and QBO phase\n",
    "dir_in_coupled = '/shared/netscratch/lrm49/Laura/'\n",
    "coupled_cntl = ['u-bu651','u-bv666','u-bv668','u-bv669','u-bv670','u-bv674','u-bv676','u-bv677','u-bv678'] \n",
    "coupled_jul_east = ['u-bv020','u-bw758','u-bw761','u-bw762','u-bw764','u-bw765'] \n",
    "coupled_jul_west = ['u-bw763','u-bw766','u-bw767'] \n",
    "coupled_jan_east = ['u-ca322', 'u-ca323', 'u-ca324', 'u-ca325', 'u-ca328']\n",
    "coupled_jan_west = ['u-ca326', 'u-ca327', 'u-ca330','u-ca331']"
   ]
  },
  {
   "cell_type": "code",
   "execution_count": 7,
   "metadata": {},
   "outputs": [
    {
     "name": "stderr",
     "output_type": "stream",
     "text": [
      "/home/lw602/.conda/envs/py27iris/lib/python2.7/site-packages/iris/fileformats/_pyke_rules/compiled_krb/fc_rules_cf_fc.py:1935: UserWarning: Ignoring netCDF variable u'surface' invalid units u'level'\n",
      "  warnings.warn(msg.encode('ascii', errors='backslashreplace'))\n"
     ]
    }
   ],
   "source": [
    "#loading in ocean-land mask\n",
    "my_mask = iris.load_cube('/shared/netscratch/lrm49/UKCA_VN112_TEST_SIMS/land_mask_bm249_da19910701_00.nc')[0,0]\n",
    "\n",
    "#Setting zero values to true to mask ocean points\n",
    "no_ocean = np.logical_not(my_mask.data)\n"
   ]
  },
  {
   "cell_type": "code",
   "execution_count": 8,
   "metadata": {},
   "outputs": [],
   "source": [
    "#setting NH constraint between 40-75N\n",
    "NH_constraint = iris.Constraint(latitude=lambda v: 40 <= v <= 75)"
   ]
  },
  {
   "cell_type": "code",
   "execution_count": 9,
   "metadata": {},
   "outputs": [],
   "source": [
    "### EASTELRY ###\n",
    "\n",
    "sat_east = iris.cube.CubeList()\n",
    "for job_id in coupled_jul_east:\n",
    "\n",
    "    dynamic_cube = iris.load(dir_in_coupled+'Samalas_July/'+job_id+'_dynamics_vars.nc')\n",
    "    sst_cube = dynamic_cube.extract('surface_temperature')[0] #loading in surface T\n",
    "    sst_cube.data = ma.array(sst_cube.data, mask=broadcast_to_shape(no_ocean,sst_cube.shape,[1,2])) #masking ocean points\n",
    "    sst_nh = sst_cube.extract(NH_constraint) #NH Constraint\n",
    "    sst_cube_gm = area_average(sst_nh) #Taking area average\n",
    "    time_limit = sst_cube_gm[6:120] #defining time to be from the point of eruption (July)\n",
    "\n",
    "    sat_east.append(time_limit)\n",
    "    \n",
    "for job_id in coupled_jan_east:\n",
    "    \n",
    "    dynamic_cube = iris.load(dir_in_coupled+'Samalas_Jan/'+job_id+'_dynamics_vars.nc')\n",
    "    sst_cube = dynamic_cube.extract('surface_temperature')[0]#loading in surface T\n",
    "    sst_cube.data = ma.array(sst_cube.data, mask=broadcast_to_shape(no_ocean,sst_cube.shape,[1,2])) #masking ocean points\n",
    "    sst_nh = sst_cube.extract(NH_constraint) #NH Constraint\n",
    "    sst_cube_gm = area_average(sst_nh) #Taking area average\n",
    "    time_limit = sst_cube_gm[0:114] #defining time to be from the point of eruption (Jan) \n",
    "    #and reducing to same length as July cubes so they can be merged \n",
    "\n",
    "\n",
    "    sat_east.append(time_limit)"
   ]
  },
  {
   "cell_type": "code",
   "execution_count": 10,
   "metadata": {},
   "outputs": [],
   "source": [
    "### WESTERLY ###\n",
    "sat_west = iris.cube.CubeList()\n",
    "for job_id in coupled_jul_west:\n",
    "\n",
    "    dynamic_cube = iris.load(dir_in_coupled+'Samalas_July/'+job_id+'_dynamics_vars.nc')\n",
    "    sst_cube = dynamic_cube.extract('surface_temperature')[0] #loading in surface T\n",
    "    sst_cube.data = ma.array(sst_cube.data, mask=broadcast_to_shape(no_ocean,sst_cube.shape,[1,2])) #masking ocean points\n",
    "    sst_nh = sst_cube.extract(NH_constraint) #NH Constraint\n",
    "    sst_cube_gm = area_average(sst_nh) #Taking area average\n",
    "    time_limit = sst_cube_gm[6:120] #defining time to be from the point of eruption (July)\n",
    "\n",
    "    sat_west.append(time_limit)\n",
    "    \n",
    "for job_id in coupled_jan_west:\n",
    "    \n",
    "    dynamic_cube = iris.load(dir_in_coupled+'Samalas_Jan/'+job_id+'_dynamics_vars.nc')\n",
    "    sst_cube = dynamic_cube.extract('surface_temperature')[0] #loading in surface T\n",
    "    sst_cube.data = ma.array(sst_cube.data, mask=broadcast_to_shape(no_ocean,sst_cube.shape,[1,2])) #masking ocean points\n",
    "    sst_nh = sst_cube.extract(NH_constraint)#NH Constraint\n",
    "    sst_cube_gm = area_average(sst_nh) #Taking area average\n",
    "    time_limit = sst_cube_gm[0:114] #defining time to be from the point of eruption (Jan) \n",
    "    #and reducing to same length as July cubes so they can be merged \n",
    "\n",
    "    sat_west.append(time_limit)"
   ]
  },
  {
   "cell_type": "code",
   "execution_count": 11,
   "metadata": {},
   "outputs": [],
   "source": [
    "### CONTROL ###\n",
    "control = iris.cube.CubeList()\n",
    "for job_id_2 in coupled_cntl:\n",
    "\n",
    "    control_cube = iris.load(dir_in_coupled+'Control/'+job_id_2+'_dynamics_vars.nc')\n",
    "    sst_control = control_cube.extract('surface_temperature')[0] #loading in surface T\n",
    "    sst_control.data = ma.array(sst_control.data, mask=broadcast_to_shape(no_ocean,sst_control.shape,[1,2])) #masking ocean points\n",
    "    sst_nh = sst_control.extract(NH_constraint) #NH Constraint\n",
    "    sst_control_gm = area_average(sst_nh)[0:114] #reducing to same length as July cubes so they can be compared \n",
    "\n",
    "    control.append(sst_control_gm)"
   ]
  },
  {
   "cell_type": "code",
   "execution_count": 12,
   "metadata": {},
   "outputs": [],
   "source": [
    "#resetting cube times so they can be merged \n",
    "time_reset(sat_east)\n",
    "time_reset(sat_west)\n",
    "time_reset(control)"
   ]
  },
  {
   "cell_type": "code",
   "execution_count": 13,
   "metadata": {},
   "outputs": [],
   "source": [
    "#merging into single cube\n",
    "sat_merged_east = merge_cubes(sat_east)\n",
    "sat_merged_west = merge_cubes(sat_west)\n",
    "one_big_control = merge_cubes(control)"
   ]
  },
  {
   "cell_type": "code",
   "execution_count": 14,
   "metadata": {},
   "outputs": [
    {
     "name": "stderr",
     "output_type": "stream",
     "text": [
      "/home/lw602/.conda/envs/py27iris/lib/python2.7/site-packages/iris/coords.py:1355: UserWarning: Collapsing a non-contiguous coordinate. Metadata may not be fully descriptive for 'realization'.\n",
      "  warnings.warn(msg.format(self.name()))\n"
     ]
    }
   ],
   "source": [
    "#Creating mean control \n",
    "mean_control = one_big_control.collapsed('realization',iris.analysis.MEAN)"
   ]
  },
  {
   "cell_type": "code",
   "execution_count": 15,
   "metadata": {},
   "outputs": [],
   "source": [
    "#Creating 10 year climatology\n",
    "import iris.coord_categorisation\n",
    "iris.coord_categorisation.add_month(mean_control,'time',name='month')\n",
    "climatology_all_controls = mean_control.aggregated_by('month',iris.analysis.MEAN) \n",
    "climatology_long = np.tile(climatology_all_controls.data, 10)\n",
    "\n",
    "climatology_short_1 = climatology_long[6:120]#for comparison with July ensembles\n",
    "climatology_short_2 = climatology_long[0:114]#for comparison with Jan ensembles\n"
   ]
  },
  {
   "cell_type": "code",
   "execution_count": 16,
   "metadata": {},
   "outputs": [],
   "source": [
    "### Easterly ###\n",
    "anom_east = iris.cube.CubeList()\n",
    "\n",
    "#calculating anomalies for july ensembles\n",
    "for i in range(0,6):\n",
    "    anomally_east = sat_merged_east[i] - climatology_short_1\n",
    "    anom_east.append(anomally_east)\n",
    "\n",
    "#calculating anomalies for jan ensembles\n",
    "for i in range(6,11):\n",
    "    anomally_east = sat_merged_east[i] - climatology_short_2\n",
    "    anom_east.append(anomally_east)"
   ]
  },
  {
   "cell_type": "code",
   "execution_count": 17,
   "metadata": {},
   "outputs": [],
   "source": [
    "### Westerly ###\n",
    "anom_west = iris.cube.CubeList()\n",
    "\n",
    "#calculating anomalies for july ensembles\n",
    "for i in range(0,3):\n",
    "    anomally_west = sat_merged_west[i] - climatology_short_1\n",
    "    anom_west.append(anomally_west)\n",
    "\n",
    "#calculating anomalies for jan ensembles\n",
    "for i in range(3,7):\n",
    "    anomally_west = sat_merged_west[i] - climatology_short_2\n",
    "    anom_west.append(anomally_west)"
   ]
  },
  {
   "cell_type": "code",
   "execution_count": 18,
   "metadata": {},
   "outputs": [],
   "source": [
    "#merging (again) into full E and W cubes\n",
    "anom_east_full = merge_cubes_again(anom_east)\n",
    "anom_west_full = merge_cubes_again(anom_west)"
   ]
  },
  {
   "cell_type": "code",
   "execution_count": 19,
   "metadata": {},
   "outputs": [],
   "source": [
    "#Taking ensemble mean anomalies for East and West Phases\n",
    "mean_anomally_east = anom_east_full.collapsed('realization',iris.analysis.MEAN)\n",
    "mean_anomally_west = anom_west_full.collapsed('realization',iris.analysis.MEAN)"
   ]
  },
  {
   "cell_type": "code",
   "execution_count": 20,
   "metadata": {},
   "outputs": [],
   "source": [
    "### Easterly ###\n",
    "#Taking anomalies at 6 month intervals post-eruption\n",
    "east_anomalies = []\n",
    "\n",
    "start = mean_anomally_east[0]\n",
    "anom_6_east = mean_anomally_east[6]\n",
    "anom_12_east = mean_anomally_east[12]\n",
    "anom_18_east = mean_anomally_east[18]\n",
    "anom_24_east = mean_anomally_east[24]\n",
    "anom_30_east = mean_anomally_east[30]\n",
    "\n",
    "\n",
    "east_anomalies.append(start.data) \n",
    "east_anomalies.append(anom_6_east.data)\n",
    "east_anomalies.append(anom_12_east.data)\n",
    "east_anomalies.append(anom_18_east.data)\n",
    "east_anomalies.append(anom_24_east.data)\n",
    "east_anomalies.append(anom_30_east.data)"
   ]
  },
  {
   "cell_type": "code",
   "execution_count": 23,
   "metadata": {},
   "outputs": [],
   "source": [
    "### Westerly ###\n",
    "#Taking anomalies at 6 month intervals post-eruption\n",
    "west_anomalies = []\n",
    "\n",
    "start = mean_anomally_west[0]\n",
    "anom_6_west = mean_anomally_west[6]\n",
    "anom_12_west = mean_anomally_west[12]\n",
    "anom_18_west = mean_anomally_west[18]\n",
    "anom_24_west = mean_anomally_west[24]\n",
    "anom_30_west = mean_anomally_west[30]\n",
    "\n",
    "west_anomalies.append(start.data) \n",
    "west_anomalies.append(anom_6_west.data) \n",
    "west_anomalies.append(anom_12_west.data) \n",
    "west_anomalies.append(anom_18_west.data)\n",
    "west_anomalies.append(anom_24_west.data) \n",
    "west_anomalies.append(anom_30_west.data)"
   ]
  },
  {
   "cell_type": "code",
   "execution_count": 24,
   "metadata": {},
   "outputs": [],
   "source": [
    "#defining new time\n",
    "time = range(0,120)"
   ]
  },
  {
   "cell_type": "code",
   "execution_count": 26,
   "metadata": {},
   "outputs": [
    {
     "data": {
      "image/png": "[encoded data removed]",
      "text/plain": [
       "<Figure size 432x288 with 1 Axes>"
      ]
     },
     "metadata": {
      "needs_background": "light"
     },
     "output_type": "display_data"
    }
   ],
   "source": [
    "plt.figure(figsize=(6,4))\n",
    "\n",
    "### PLOTTING EASTERLY ENSEMBLES ###\n",
    "\n",
    "for cube in anom_east_full.slices_over('realization'): # loop through ensemble members\n",
    "    east_anomalies_2 = []\n",
    "\n",
    "    time_0 = cube[0]\n",
    "    time_6 = cube[6]\n",
    "    time_18 = cube[18]\n",
    "    time_30 = cube[30]\n",
    "   \n",
    "    east_anomalies_2.append(time_0.data) \n",
    "    east_anomalies_2.append(time_6.data)\n",
    "    east_anomalies_2.append(time_18.data)\n",
    "    east_anomalies_2.append(time_30.data)\n",
    "    \n",
    "    plt.plot([time[0],time[6], time[18], time[30]], \n",
    "         east_anomalies_2, \n",
    "         color='palegreen', alpha = 0.4, lw=2)\n",
    "    \n",
    "### PLOTTING WESTERLY ENSEMBLES ###\n",
    "    \n",
    "for cube in anom_west_full.slices_over('realization'): # loop through ensemble members\n",
    "    west_anomalies_2 = []\n",
    "\n",
    "    time_0 = cube[0]\n",
    "    time_6 = cube[6]\n",
    "    time_18 = cube[18]\n",
    "    time_30 = cube[30]\n",
    "    \n",
    "    west_anomalies_2.append(time_0.data) \n",
    "    west_anomalies_2.append(time_6.data) \n",
    "    west_anomalies_2.append(time_18.data)\n",
    "    west_anomalies_2.append(time_30.data)\n",
    "    \n",
    "    plt.plot([time[0], time[6], time[18], time[30]], \n",
    "         west_anomalies_2, \n",
    "         color='mediumpurple', alpha = 0.4, lw=2) \n",
    "\n",
    "\n",
    "### PLOTTING ENSEMBLE MEANS ####\n",
    "\n",
    "plt.plot([time[0], time[6], time[12], time[18], time[24], time[30]], \n",
    "         east_anomalies, color='forestgreen',lw=2.5)#plotting mean\n",
    "\n",
    "plt.plot([time[0], time[6], time[12], time[18], time[24], time[30]], \n",
    "         west_anomalies, color='blueviolet',lw=2.5)#plotting mean\n",
    "\n",
    "plt.xlim(time[0],time[30]) # plot only 5 years\n",
    "\n",
    "\n",
    "plt.title('NH Summer Land SAT Anomaly (QBO Phase)')\n",
    "plt.xlabel('Months Since Eruption')\n",
    "plt.ylabel('NH Surface Temperature Anomally/K')\n",
    "july_line = Line2D([0], [0], label='E QBO', color='forestgreen')\n",
    "jan_line = Line2D([0], [0], label='W QBO', color='blueviolet')\n",
    "plt.legend(handles=[july_line, jan_line], loc='upper right')\n",
    "\n",
    "plt.savefig('SAT_by_QBO.pdf')\n",
    "\n"
   ]
  },
  {
   "cell_type": "code",
   "execution_count": null,
   "metadata": {},
   "outputs": [],
   "source": []
  }
 ],
 "metadata": {
  "kernelspec": {
   "display_name": "Python 2",
   "language": "python",
   "name": "python2"
  },
  "language_info": {
   "codemirror_mode": {
    "name": "ipython",
    "version": 2
   },
   "file_extension": ".py",
   "mimetype": "text/x-python",
   "name": "python",
   "nbconvert_exporter": "python",
   "pygments_lexer": "ipython2",
   "version": "2.7.18"
  }
 },
 "nbformat": 4,
 "nbformat_minor": 2
}
